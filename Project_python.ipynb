{
 "cells": [
  {
   "cell_type": "markdown",
   "id": "45d4c34e-8f74-404d-a4a7-f1e1579610e9",
   "metadata": {},
   "source": [
    "# 1. Relation between Precipitaion and Elevation for New jersey in year 2016"
   ]
  },
  {
   "cell_type": "markdown",
   "id": "815e2506-9c3e-436f-b886-09baed5fe362",
   "metadata": {},
   "source": [
    "\n",
    "## 1. Data Collection"
   ]
  },
  {
   "cell_type": "markdown",
   "id": "4500d6e1-23c6-4c6b-b3dd-2eb3cb7193dd",
   "metadata": {},
   "source": [
    "### 1.1 Download daily precipitation data from NASA for year 2016"
   ]
  },
  {
   "cell_type": "markdown",
   "id": "0979149e-6c7f-4eec-b45c-e5a86661f28a",
   "metadata": {},
   "source": [
    "Downloaded GPM Daily Precipitaion data from \"https://measures.gesdisc.eosdis.nasa.gov/data/GPCP/GPCPDAY.3.1/2016/\" \n",
    " \n",
    "  Code used in terminal\n",
    "- echo \"machine urs.earthdata.nasa.gov login danraj567 password ***************\" > ~/.netrc\n",
    "- chmod 0600 ~/.netrc"
   ]
  },
  {
   "cell_type": "code",
   "execution_count": 11,
   "id": "46bbbdc6-4b0d-43a4-b015-96fe3b54ca54",
   "metadata": {},
   "outputs": [
    {
     "name": "stdout",
     "output_type": "stream",
     "text": [
      "--2023-11-06 11:58:47--  http://precipitation_data/\n",
      "Resolving precipitation_data (precipitation_data)... failed: Name or service not known.\n",
      "wget: unable to resolve host address ‘precipitation_data’\n"
     ]
    }
   ],
   "source": [
    "! wget --load-cookies ~/.urs_cookies --save-cookies ~/.urs_cookies --keep-session-cookies -r -np -A \".nc4\" https://measures.gesdisc.eosdis.nasa.gov/data/GPCP/GPCPDAY.3.1/2016/"
   ]
  },
  {
   "cell_type": "markdown",
   "id": "07a348e9-e595-47c3-a7d6-86d4bd4c895b",
   "metadata": {},
   "source": [
    "### 1.2 DEM file USA"
   ]
  },
  {
   "cell_type": "markdown",
   "id": "26db420f-46af-4aa2-964a-28964e8eda4d",
   "metadata": {},
   "source": [
    "The DEM file is downloaded from https://github.com/HyDROSLab/EF5-US-Parameters/blob/master/basic/dem_usa.tif"
   ]
  },
  {
   "cell_type": "code",
   "execution_count": 12,
   "id": "6cb5c3b4-2edf-40f2-a377-221b3a95441b",
   "metadata": {},
   "outputs": [
    {
     "name": "stdout",
     "output_type": "stream",
     "text": [
      "--2023-11-06 12:01:08--  https://github.com/HyDROSLab/EF5-US-Parameters/blob/master/basic/\n",
      "Resolving github.com (github.com)... 140.82.114.3\n",
      "Connecting to github.com (github.com)|140.82.114.3|:443... connected.\n",
      "HTTP request sent, awaiting response... 301 Moved Permanently\n",
      "Location: https://github.com/HyDROSLab/EF5-US-Parameters/tree/master/basic [following]\n",
      "--2023-11-06 12:01:08--  https://github.com/HyDROSLab/EF5-US-Parameters/tree/master/basic\n",
      "Reusing existing connection to github.com:443.\n",
      "HTTP request sent, awaiting response... 200 OK\n",
      "Length: 2081 (2.0K) [text/plain]\n",
      "Saving to: ‘github.com/HyDROSLab/EF5-US-Parameters/blob/master/basic/index.html’\n",
      "\n",
      "100%[======================================>] 2,081       --.-K/s   in 0s      \n",
      "\n",
      "2023-11-06 12:01:08 (4.78 MB/s) - ‘github.com/HyDROSLab/EF5-US-Parameters/blob/master/basic/index.html’ saved [2081/2081]\n",
      "\n",
      "Removing github.com/HyDROSLab/EF5-US-Parameters/blob/master/basic/index.html since it should be rejected.\n",
      "\n",
      "FINISHED --2023-11-06 12:01:08--\n",
      "Total wall clock time: 0.3s\n",
      "Downloaded: 1 files, 2.0K in 0s (4.78 MB/s)\n"
     ]
    }
   ],
   "source": [
    "! wget --load-cookies ~/.urs_cookies --save-cookies ~/.urs_cookies --keep-session-cookies -r -np -A \".tif\" https://github.com/HyDROSLab/EF5-US-Parameters/blob/master/basic/"
   ]
  },
  {
   "cell_type": "markdown",
   "id": "08f97972-5827-4d30-8e69-0c46729bd794",
   "metadata": {},
   "source": [
    "### 1.3 Cities in New Jersey"
   ]
  },
  {
   "cell_type": "markdown",
   "id": "8b62a3ee-a91c-401d-8f10-c601c3c4a57c",
   "metadata": {},
   "source": [
    "The locations were taken from the \"https://simplemaps.com/data/us-cities\". "
   ]
  },
  {
   "cell_type": "markdown",
   "id": "f322b0ee-9800-46b0-bf98-3f487b86f599",
   "metadata": {},
   "source": [
    "## 1.4 Importing required libraries"
   ]
  },
  {
   "cell_type": "code",
   "execution_count": 1,
   "id": "06f49ac0-8ed3-490f-b088-5e0971fc344d",
   "metadata": {},
   "outputs": [],
   "source": [
    "import pandas as pd\n",
    "import numpy as np\n",
    "import os\n",
    "import matplotlib.image as mpimg\n",
    "import matplotlib.pyplot as plt\n",
    "from netCDF4 import Dataset\n",
    "import rasterio as rio"
   ]
  },
  {
   "cell_type": "markdown",
   "id": "d13f22f0-16f0-4996-8b9d-e3de6b809c41",
   "metadata": {},
   "source": [
    "## 2.1 Extracting the coordinates of NJ from file."
   ]
  },
  {
   "cell_type": "markdown",
   "id": "15aa8fac-18e6-4443-b79d-bbc0accc0e3e",
   "metadata": {},
   "source": [
    "# 2. Reading the Files"
   ]
  },
  {
   "cell_type": "markdown",
   "id": "6fa82303-a0a1-4ea0-b9e5-c9249c320079",
   "metadata": {},
   "source": [
    "## 2.1 Reading CSV file"
   ]
  },
  {
   "cell_type": "code",
   "execution_count": 30,
   "id": "507b739e-e68e-40e6-9bf5-e9fd46d7a320",
   "metadata": {},
   "outputs": [
    {
     "data": {
      "text/html": [
       "<div>\n",
       "<style scoped>\n",
       "    .dataframe tbody tr th:only-of-type {\n",
       "        vertical-align: middle;\n",
       "    }\n",
       "\n",
       "    .dataframe tbody tr th {\n",
       "        vertical-align: top;\n",
       "    }\n",
       "\n",
       "    .dataframe thead th {\n",
       "        text-align: right;\n",
       "    }\n",
       "</style>\n",
       "<table border=\"1\" class=\"dataframe\">\n",
       "  <thead>\n",
       "    <tr style=\"text-align: right;\">\n",
       "      <th></th>\n",
       "      <th>city</th>\n",
       "      <th>city_ascii</th>\n",
       "      <th>state_id</th>\n",
       "      <th>state_name</th>\n",
       "      <th>county_fips</th>\n",
       "      <th>county_name</th>\n",
       "      <th>lat</th>\n",
       "      <th>lng</th>\n",
       "      <th>population</th>\n",
       "      <th>density</th>\n",
       "      <th>source</th>\n",
       "      <th>military</th>\n",
       "      <th>incorporated</th>\n",
       "      <th>timezone</th>\n",
       "      <th>ranking</th>\n",
       "      <th>zips</th>\n",
       "      <th>id</th>\n",
       "    </tr>\n",
       "  </thead>\n",
       "  <tbody>\n",
       "    <tr>\n",
       "      <th>0</th>\n",
       "      <td>New York</td>\n",
       "      <td>New York</td>\n",
       "      <td>NY</td>\n",
       "      <td>New York</td>\n",
       "      <td>36081</td>\n",
       "      <td>Queens</td>\n",
       "      <td>40.6943</td>\n",
       "      <td>-73.9249</td>\n",
       "      <td>18972871</td>\n",
       "      <td>10768.2</td>\n",
       "      <td>shape</td>\n",
       "      <td>False</td>\n",
       "      <td>True</td>\n",
       "      <td>America/New_York</td>\n",
       "      <td>1</td>\n",
       "      <td>11229 11226 11225 11224 11223 11221 11220 1138...</td>\n",
       "      <td>1840034016</td>\n",
       "    </tr>\n",
       "    <tr>\n",
       "      <th>1</th>\n",
       "      <td>Los Angeles</td>\n",
       "      <td>Los Angeles</td>\n",
       "      <td>CA</td>\n",
       "      <td>California</td>\n",
       "      <td>6037</td>\n",
       "      <td>Los Angeles</td>\n",
       "      <td>34.1141</td>\n",
       "      <td>-118.4068</td>\n",
       "      <td>12121244</td>\n",
       "      <td>3267.6</td>\n",
       "      <td>shape</td>\n",
       "      <td>False</td>\n",
       "      <td>True</td>\n",
       "      <td>America/Los_Angeles</td>\n",
       "      <td>1</td>\n",
       "      <td>90291 90293 90292 91316 91311 90035 90034 9003...</td>\n",
       "      <td>1840020491</td>\n",
       "    </tr>\n",
       "    <tr>\n",
       "      <th>2</th>\n",
       "      <td>Chicago</td>\n",
       "      <td>Chicago</td>\n",
       "      <td>IL</td>\n",
       "      <td>Illinois</td>\n",
       "      <td>17031</td>\n",
       "      <td>Cook</td>\n",
       "      <td>41.8375</td>\n",
       "      <td>-87.6866</td>\n",
       "      <td>8595181</td>\n",
       "      <td>4576.6</td>\n",
       "      <td>shape</td>\n",
       "      <td>False</td>\n",
       "      <td>True</td>\n",
       "      <td>America/Chicago</td>\n",
       "      <td>1</td>\n",
       "      <td>60018 60649 60641 60640 60643 60642 60645 6064...</td>\n",
       "      <td>1840000494</td>\n",
       "    </tr>\n",
       "    <tr>\n",
       "      <th>3</th>\n",
       "      <td>Miami</td>\n",
       "      <td>Miami</td>\n",
       "      <td>FL</td>\n",
       "      <td>Florida</td>\n",
       "      <td>12086</td>\n",
       "      <td>Miami-Dade</td>\n",
       "      <td>25.7840</td>\n",
       "      <td>-80.2101</td>\n",
       "      <td>5711945</td>\n",
       "      <td>4945.7</td>\n",
       "      <td>shape</td>\n",
       "      <td>False</td>\n",
       "      <td>True</td>\n",
       "      <td>America/New_York</td>\n",
       "      <td>1</td>\n",
       "      <td>33128 33129 33125 33126 33127 33149 33144 3314...</td>\n",
       "      <td>1840015149</td>\n",
       "    </tr>\n",
       "    <tr>\n",
       "      <th>4</th>\n",
       "      <td>Dallas</td>\n",
       "      <td>Dallas</td>\n",
       "      <td>TX</td>\n",
       "      <td>Texas</td>\n",
       "      <td>48113</td>\n",
       "      <td>Dallas</td>\n",
       "      <td>32.7935</td>\n",
       "      <td>-96.7667</td>\n",
       "      <td>5668165</td>\n",
       "      <td>1522.2</td>\n",
       "      <td>shape</td>\n",
       "      <td>False</td>\n",
       "      <td>True</td>\n",
       "      <td>America/Chicago</td>\n",
       "      <td>1</td>\n",
       "      <td>75287 75098 75234 75254 75251 75252 75253 7503...</td>\n",
       "      <td>1840019440</td>\n",
       "    </tr>\n",
       "  </tbody>\n",
       "</table>\n",
       "</div>"
      ],
      "text/plain": [
       "          city   city_ascii state_id  state_name  county_fips  county_name  \\\n",
       "0     New York     New York       NY    New York        36081       Queens   \n",
       "1  Los Angeles  Los Angeles       CA  California         6037  Los Angeles   \n",
       "2      Chicago      Chicago       IL    Illinois        17031         Cook   \n",
       "3        Miami        Miami       FL     Florida        12086   Miami-Dade   \n",
       "4       Dallas       Dallas       TX       Texas        48113       Dallas   \n",
       "\n",
       "       lat       lng  population  density source  military  incorporated  \\\n",
       "0  40.6943  -73.9249    18972871  10768.2  shape     False          True   \n",
       "1  34.1141 -118.4068    12121244   3267.6  shape     False          True   \n",
       "2  41.8375  -87.6866     8595181   4576.6  shape     False          True   \n",
       "3  25.7840  -80.2101     5711945   4945.7  shape     False          True   \n",
       "4  32.7935  -96.7667     5668165   1522.2  shape     False          True   \n",
       "\n",
       "              timezone  ranking  \\\n",
       "0     America/New_York        1   \n",
       "1  America/Los_Angeles        1   \n",
       "2      America/Chicago        1   \n",
       "3     America/New_York        1   \n",
       "4      America/Chicago        1   \n",
       "\n",
       "                                                zips          id  \n",
       "0  11229 11226 11225 11224 11223 11221 11220 1138...  1840034016  \n",
       "1  90291 90293 90292 91316 91311 90035 90034 9003...  1840020491  \n",
       "2  60018 60649 60641 60640 60643 60642 60645 6064...  1840000494  \n",
       "3  33128 33129 33125 33126 33127 33149 33144 3314...  1840015149  \n",
       "4  75287 75098 75234 75254 75251 75252 75253 7503...  1840019440  "
      ]
     },
     "execution_count": 30,
     "metadata": {},
     "output_type": "execute_result"
    }
   ],
   "source": [
    "# Read the CSV file\n",
    "df = pd.read_csv('uscities.csv')\n",
    "df.head()\n"
   ]
  },
  {
   "cell_type": "code",
   "execution_count": 31,
   "id": "dc17efc6-9339-47e2-bedf-da498f2452b3",
   "metadata": {},
   "outputs": [
    {
     "name": "stdout",
     "output_type": "stream",
     "text": [
      "Total number of unique cities in New Jersey: 655\n",
      "Cities in New Jersey:\n"
     ]
    },
    {
     "data": {
      "text/html": [
       "<div>\n",
       "<style scoped>\n",
       "    .dataframe tbody tr th:only-of-type {\n",
       "        vertical-align: middle;\n",
       "    }\n",
       "\n",
       "    .dataframe tbody tr th {\n",
       "        vertical-align: top;\n",
       "    }\n",
       "\n",
       "    .dataframe thead th {\n",
       "        text-align: right;\n",
       "    }\n",
       "</style>\n",
       "<table border=\"1\" class=\"dataframe\">\n",
       "  <thead>\n",
       "    <tr style=\"text-align: right;\">\n",
       "      <th></th>\n",
       "      <th>city</th>\n",
       "      <th>city_ascii</th>\n",
       "      <th>state_id</th>\n",
       "      <th>state_name</th>\n",
       "      <th>county_fips</th>\n",
       "      <th>county_name</th>\n",
       "      <th>lat</th>\n",
       "      <th>lng</th>\n",
       "      <th>population</th>\n",
       "      <th>density</th>\n",
       "      <th>source</th>\n",
       "      <th>military</th>\n",
       "      <th>incorporated</th>\n",
       "      <th>timezone</th>\n",
       "      <th>ranking</th>\n",
       "      <th>zips</th>\n",
       "      <th>id</th>\n",
       "    </tr>\n",
       "  </thead>\n",
       "  <tbody>\n",
       "    <tr>\n",
       "      <th>138</th>\n",
       "      <td>Trenton</td>\n",
       "      <td>Trenton</td>\n",
       "      <td>NJ</td>\n",
       "      <td>New Jersey</td>\n",
       "      <td>34021</td>\n",
       "      <td>Mercer</td>\n",
       "      <td>40.2237</td>\n",
       "      <td>-74.7641</td>\n",
       "      <td>316436</td>\n",
       "      <td>4232.8</td>\n",
       "      <td>shape</td>\n",
       "      <td>False</td>\n",
       "      <td>True</td>\n",
       "      <td>America/New_York</td>\n",
       "      <td>2</td>\n",
       "      <td>08638 08611 08618 08629 08609 08608 08601 0860...</td>\n",
       "      <td>1840001383</td>\n",
       "    </tr>\n",
       "    <tr>\n",
       "      <th>145</th>\n",
       "      <td>Newark</td>\n",
       "      <td>Newark</td>\n",
       "      <td>NJ</td>\n",
       "      <td>New Jersey</td>\n",
       "      <td>34013</td>\n",
       "      <td>Essex</td>\n",
       "      <td>40.7245</td>\n",
       "      <td>-74.1725</td>\n",
       "      <td>306247</td>\n",
       "      <td>4508.4</td>\n",
       "      <td>shape</td>\n",
       "      <td>False</td>\n",
       "      <td>True</td>\n",
       "      <td>America/New_York</td>\n",
       "      <td>2</td>\n",
       "      <td>07103 07102 07105 07104 07107 07106 07108 0711...</td>\n",
       "      <td>1840002791</td>\n",
       "    </tr>\n",
       "    <tr>\n",
       "      <th>156</th>\n",
       "      <td>Jersey City</td>\n",
       "      <td>Jersey City</td>\n",
       "      <td>NJ</td>\n",
       "      <td>New Jersey</td>\n",
       "      <td>34017</td>\n",
       "      <td>Hudson</td>\n",
       "      <td>40.7184</td>\n",
       "      <td>-74.0686</td>\n",
       "      <td>287146</td>\n",
       "      <td>6878.3</td>\n",
       "      <td>shape</td>\n",
       "      <td>False</td>\n",
       "      <td>True</td>\n",
       "      <td>America/New_York</td>\n",
       "      <td>2</td>\n",
       "      <td>07310 07311 07302 07307 07306 07305 07304 0709...</td>\n",
       "      <td>1840003600</td>\n",
       "    </tr>\n",
       "    <tr>\n",
       "      <th>195</th>\n",
       "      <td>Atlantic City</td>\n",
       "      <td>Atlantic City</td>\n",
       "      <td>NJ</td>\n",
       "      <td>New Jersey</td>\n",
       "      <td>34001</td>\n",
       "      <td>Atlantic</td>\n",
       "      <td>39.3797</td>\n",
       "      <td>-74.4527</td>\n",
       "      <td>236314</td>\n",
       "      <td>1356.1</td>\n",
       "      <td>shape</td>\n",
       "      <td>False</td>\n",
       "      <td>True</td>\n",
       "      <td>America/New_York</td>\n",
       "      <td>2</td>\n",
       "      <td>08401 08404 08405</td>\n",
       "      <td>1840003798</td>\n",
       "    </tr>\n",
       "    <tr>\n",
       "      <th>283</th>\n",
       "      <td>Paterson</td>\n",
       "      <td>Paterson</td>\n",
       "      <td>NJ</td>\n",
       "      <td>New Jersey</td>\n",
       "      <td>34031</td>\n",
       "      <td>Passaic</td>\n",
       "      <td>40.9147</td>\n",
       "      <td>-74.1624</td>\n",
       "      <td>157927</td>\n",
       "      <td>6676.6</td>\n",
       "      <td>shape</td>\n",
       "      <td>False</td>\n",
       "      <td>True</td>\n",
       "      <td>America/New_York</td>\n",
       "      <td>2</td>\n",
       "      <td>07522 07524 07514 07513 07504 07502 07505 0750...</td>\n",
       "      <td>1840000838</td>\n",
       "    </tr>\n",
       "  </tbody>\n",
       "</table>\n",
       "</div>"
      ],
      "text/plain": [
       "              city     city_ascii state_id  state_name  county_fips  \\\n",
       "138        Trenton        Trenton       NJ  New Jersey        34021   \n",
       "145         Newark         Newark       NJ  New Jersey        34013   \n",
       "156    Jersey City    Jersey City       NJ  New Jersey        34017   \n",
       "195  Atlantic City  Atlantic City       NJ  New Jersey        34001   \n",
       "283       Paterson       Paterson       NJ  New Jersey        34031   \n",
       "\n",
       "    county_name      lat      lng  population  density source  military  \\\n",
       "138      Mercer  40.2237 -74.7641      316436   4232.8  shape     False   \n",
       "145       Essex  40.7245 -74.1725      306247   4508.4  shape     False   \n",
       "156      Hudson  40.7184 -74.0686      287146   6878.3  shape     False   \n",
       "195    Atlantic  39.3797 -74.4527      236314   1356.1  shape     False   \n",
       "283     Passaic  40.9147 -74.1624      157927   6676.6  shape     False   \n",
       "\n",
       "     incorporated          timezone  ranking  \\\n",
       "138          True  America/New_York        2   \n",
       "145          True  America/New_York        2   \n",
       "156          True  America/New_York        2   \n",
       "195          True  America/New_York        2   \n",
       "283          True  America/New_York        2   \n",
       "\n",
       "                                                  zips          id  \n",
       "138  08638 08611 08618 08629 08609 08608 08601 0860...  1840001383  \n",
       "145  07103 07102 07105 07104 07107 07106 07108 0711...  1840002791  \n",
       "156  07310 07311 07302 07307 07306 07305 07304 0709...  1840003600  \n",
       "195                                  08401 08404 08405  1840003798  \n",
       "283  07522 07524 07514 07513 07504 07502 07505 0750...  1840000838  "
      ]
     },
     "execution_count": 31,
     "metadata": {},
     "output_type": "execute_result"
    }
   ],
   "source": [
    "# Filter for cities in New Jersey (NJ)\n",
    "nj_cities = df[df['state_id'] == 'NJ']\n",
    "# Count the number of cities in NJ\n",
    "num_cities_nj = nj_cities['city'].nunique()\n",
    "# Print the result\n",
    "print(f\"Total number of unique cities in New Jersey: {num_cities_nj}\")\n",
    "print(\"Cities in New Jersey:\")\n",
    "nj_cities.head()"
   ]
  },
  {
   "cell_type": "markdown",
   "id": "7b1e5ca4-5fe5-4ce5-9603-a2e2e2af185a",
   "metadata": {},
   "source": [
    "## 2.2 Reading NetCDF file"
   ]
  },
  {
   "cell_type": "code",
   "execution_count": 32,
   "id": "408ed0c4-aa19-4398-96f7-ad87b92f3ab1",
   "metadata": {
    "scrolled": true
   },
   "outputs": [
    {
     "name": "stdout",
     "output_type": "stream",
     "text": [
      "<xarray.Dataset>\n",
      "Dimensions:                    (lon: 720, lat: 360, time: 366, bnds: 2)\n",
      "Coordinates:\n",
      "  * lon                        (lon) float32 -179.8 -179.2 ... 179.2 179.8\n",
      "  * lat                        (lat) float32 89.75 89.25 88.75 ... -89.25 -89.75\n",
      "  * time                       (time) datetime64[ns] 2016-01-01 ... 2016-12-31\n",
      "Dimensions without coordinates: bnds\n",
      "Data variables:\n",
      "    precip                     (time, lat, lon) float32 dask.array<chunksize=(1, 360, 720), meta=np.ndarray>\n",
      "    probability_liquid_precip  (time, lat, lon) float32 dask.array<chunksize=(1, 360, 720), meta=np.ndarray>\n",
      "    time_bnds                  (time, bnds) datetime64[ns] dask.array<chunksize=(1, 2), meta=np.ndarray>\n",
      "Attributes: (12/67)\n",
      "    ShortName:                      GPCPDAY\n",
      "    LongName:                       GPCP Precipitation Level 3 Daily 0.5-Degr...\n",
      "    VersionID:                      3.1\n",
      "    GranuleID:                      GPCPDAY_L3_20160101_V3.1.nc4\n",
      "    Format:                         NetCDF-4\n",
      "    RangeBeginningDate:             2016-01-01\n",
      "    ...                             ...\n",
      "    Distribution_Format:            NetCDF-4\n",
      "    IdentifierProductDOIAuthority:  http://dx.doi.org/\n",
      "    Fees:                           None\n",
      "    ProcessingLevel:                Level 3\n",
      "    institution:                    Mesoscale Atmospheric Processes Laborator...\n",
      "    comment:                        The GPCP V3.1 Daily is being developed in...\n"
     ]
    }
   ],
   "source": [
    "import xarray as xr\n",
    "# Directory containing the NetCDF files \n",
    "nc_directory = 'Precipitation_data/'\n",
    "# List all NetCDF files in the directory\n",
    "nc_files = [os.path.join(nc_directory, f) for f in os.listdir(nc_directory) if f.endswith('.nc4')]\n",
    "ds = xr.open_mfdataset(nc_files, combine='by_coords')\n",
    "print(ds)"
   ]
  },
  {
   "cell_type": "markdown",
   "id": "48e19ff7-ed4c-400d-a8cc-a0b18b610434",
   "metadata": {},
   "source": [
    "## 2.3 Reading the DEM file"
   ]
  },
  {
   "cell_type": "code",
   "execution_count": 6,
   "id": "3b714a43-b9ac-4ac0-81bb-e6a8fc02139c",
   "metadata": {},
   "outputs": [
    {
     "data": {
      "image/png": "[encoded data removed]",
      "text/plain": [
       "<Figure size 640x480 with 1 Axes>"
      ]
     },
     "metadata": {},
     "output_type": "display_data"
    },
    {
     "data": {
      "text/plain": [
       "<Axes: >"
      ]
     },
     "execution_count": 6,
     "metadata": {},
     "output_type": "execute_result"
    }
   ],
   "source": [
    "from rasterio.plot import show\n",
    "file_path = 'DEM.tif'\n",
    "dem = rio.open(file_path) #Reading the DEM file\n",
    "show(dem)"
   ]
  },
  {
   "cell_type": "code",
   "execution_count": 9,
   "id": "4b021e2c-c4c0-431a-806c-6a373e9ec280",
   "metadata": {},
   "outputs": [],
   "source": [
    "from rasterio.enums import Resampling\n",
    "data = dem.read(\n",
    "     out_shape=(\n",
    "        dem.count,\n",
    "        int(dem.height * 0.01),  # decreasing the resolution\n",
    "        int(dem.width *0.01)\n",
    "    ),\n",
    "        resampling=Resampling.bilinear\n",
    ")\n",
    "\n",
    "    # Update the metadata to reflect the new shape\n",
    "transform = dem.transform * dem.transform.scale(\n",
    "    (dem.width / data.shape[-1]),\n",
    "    (dem.height / data.shape[-2])\n",
    ")"
   ]
  },
  {
   "cell_type": "code",
   "execution_count": 10,
   "id": "0326cda5-229d-4a3c-bef7-a864e400ccd5",
   "metadata": {},
   "outputs": [
    {
     "data": {
      "image/png": "[encoded data removed]",
      "text/plain": [
       "<Figure size 640x480 with 1 Axes>"
      ]
     },
     "metadata": {},
     "output_type": "display_data"
    },
    {
     "data": {
      "text/plain": [
       "<Axes: >"
      ]
     },
     "execution_count": 10,
     "metadata": {},
     "output_type": "execute_result"
    }
   ],
   "source": [
    "show (data)"
   ]
  },
  {
   "cell_type": "code",
   "execution_count": 15,
   "id": "e526e497-f9b6-42e2-84b4-99639185606e",
   "metadata": {},
   "outputs": [],
   "source": [
    "new_meta = dem.meta.copy()\n",
    "new_meta.update({\n",
    "    'driver': 'GTiff',\n",
    "    'height': data.shape[1],\n",
    "    'width': data.shape[2],\n",
    "    'transform': transform\n",
    "})\n",
    "\n",
    " \n",
    "with rio.open('resampled_DEM.tif', 'w', **new_meta) as dst:\n",
    "    dst.write(data)"
   ]
  },
  {
   "cell_type": "markdown",
   "id": "36ebe8ee-5a1f-4317-a32b-0743067d26e2",
   "metadata": {},
   "source": [
    "## 3. Process"
   ]
  },
  {
   "cell_type": "markdown",
   "id": "7779a94f-72d2-4b2d-be25-9111a96fb1f4",
   "metadata": {},
   "source": [
    "### 3.1 Reading the elevation from DEM from the lat and lng of cities"
   ]
  },
  {
   "cell_type": "code",
   "execution_count": 18,
   "id": "6e9bb8ac-f789-4614-96df-1321a605e334",
   "metadata": {},
   "outputs": [],
   "source": [
    "# Function to get elevation from resampled DEM based on coordinates\n",
    "def get_elevation(lat, lon, dem):\n",
    "    row, col = dem.index(lon, lat)\n",
    "    if (0 <= row < dem.height) and (0 <= col < dem.width):\n",
    "        return dem.read(1)[row, col]\n",
    "    else:\n",
    "        return None  # Return None for coordinates outside the DEM bounds\n"
   ]
  },
  {
   "cell_type": "code",
   "execution_count": 19,
   "id": "6a0875e5-4817-4db1-8c30-21b404befff3",
   "metadata": {},
   "outputs": [
    {
     "name": "stdout",
     "output_type": "stream",
     "text": [
      "                city      lat      lng   elevation\n",
      "138          Trenton  40.2237 -74.7641   24.867914\n",
      "145           Newark  40.7245 -74.1725   23.419693\n",
      "156      Jersey City  40.7184 -74.0686    9.510970\n",
      "195    Atlantic City  39.3797 -74.4527    0.850331\n",
      "283         Paterson  40.9147 -74.1624   31.753309\n",
      "...              ...      ...      ...         ...\n",
      "29672   Gandys Beach  39.2715 -75.2316    0.163631\n",
      "29940     Buttzville  40.8293 -75.0060  172.623993\n",
      "30125    Pine Valley  39.7870 -74.9742   38.724731\n",
      "30260   Money Island  39.2855 -75.2352    0.618595\n",
      "30317      Tavistock  39.8758 -75.0273   19.213404\n",
      "\n",
      "[656 rows x 4 columns]\n"
     ]
    },
    {
     "name": "stderr",
     "output_type": "stream",
     "text": [
      "/tmp/ipykernel_136122/3665094710.py:4: SettingWithCopyWarning: \n",
      "A value is trying to be set on a copy of a slice from a DataFrame.\n",
      "Try using .loc[row_indexer,col_indexer] = value instead\n",
      "\n",
      "See the caveats in the documentation: https://pandas.pydata.org/pandas-docs/stable/user_guide/indexing.html#returning-a-view-versus-a-copy\n",
      "  nj_cities['elevation'] = nj_cities.apply(lambda row: get_elevation(row['lat'], row['lng'], dem), axis=1)\n"
     ]
    }
   ],
   "source": [
    "# Read the resampled DEM file\n",
    "with rio.open('resampled_DEM.tif') as dem:\n",
    "    # Add a new column to the DataFrame for elevation\n",
    "    nj_cities['elevation'] = nj_cities.apply(lambda row: get_elevation(row['lat'], row['lng'], dem), axis=1)\n",
    "\n",
    "# Select only the relevant columns\n",
    "nj_cities_subset = nj_cities[['city', 'lat', 'lng', 'elevation']]\n",
    "\n",
    "# Display the DataFrame with city names, lat, lng, and elevation\n",
    "print(nj_cities_subset)"
   ]
  },
  {
   "cell_type": "code",
   "execution_count": 20,
   "id": "84e78df3-25a6-4a02-b447-bbf358c652b7",
   "metadata": {},
   "outputs": [],
   "source": [
    "# Export the DataFrame to a CSV file\n",
    "nj_cities_subset.to_csv('nj_cities_elevation.csv', index=False)"
   ]
  },
  {
   "cell_type": "markdown",
   "id": "15af8818-2c5d-4e52-93af-6120e08ff475",
   "metadata": {},
   "source": [
    "## 3.2 Reading the datas from the NetCDF file for  'lat', 'lng'"
   ]
  },
  {
   "cell_type": "code",
   "execution_count": 33,
   "id": "21fec75f-b21b-46fd-97d0-25846ef58ec3",
   "metadata": {},
   "outputs": [],
   "source": [
    "# Function to get precipitation for a given lat, lon\n",
    "def get_precip(lat, lon, ds):\n",
    "    # Find the nearest point (might need adjustment based on your data's resolution)\n",
    "    precip = ds.sel(lat=lat, lon=lon, method='nearest')['precip']\n",
    "    return precip\n",
    "\n"
   ]
  },
  {
   "cell_type": "code",
   "execution_count": 38,
   "id": "c915db08-804e-48d2-8656-1c507305824e",
   "metadata": {},
   "outputs": [],
   "source": [
    "# Dictionary to store accumulated monthly precipitation data\n",
    "city_monthly_precip = {}\n",
    "\n",
    "# Loop through each city\n",
    "for index, row in nj_cities.iterrows():\n",
    "    city_name = row['city']\n",
    "    lat, lon = row['lat'], row['lng']\n",
    "    \n",
    "    # Extract precipitation data\n",
    "    precip_data = get_precip(lat, lon, ds)\n",
    "    \n",
    "    # Convert to DataFrame\n",
    "    precip_df = precip_data.to_dataframe().reset_index()\n",
    "    \n",
    "    # Resample to get monthly data and sum the precipitation\n",
    "    monthly_precip = precip_df.resample('M', on='time')['precip'].mean()\n",
    "    \n",
    "    city_monthly_precip[city_name] = monthly_precip"
   ]
  },
  {
   "cell_type": "code",
   "execution_count": 40,
   "id": "339ca1d8-da2f-404d-af0f-27ce4d1d537c",
   "metadata": {},
   "outputs": [
    {
     "name": "stdout",
     "output_type": "stream",
     "text": [
      "Data exported to 'city_monthly_mean_precipitation.csv'\n"
     ]
    }
   ],
   "source": [
    "city_precip_df = pd.DataFrame(city_monthly_precip)\n",
    "\n",
    "# Transpose the DataFrame to have cities as rows and months as columns\n",
    "city_precip_df = city_precip_df.T\n",
    "\n",
    "# Reset the index to turn the city names into a column\n",
    "city_precip_df.reset_index(inplace=True)\n",
    "city_precip_df.rename(columns={'index': 'City'}, inplace=True)\n",
    "\n",
    "# Export the DataFrame to a CSV file\n",
    "city_precip_df.to_csv('city_monthly_mean_precipitation.csv', index=False)\n"
   ]
  },
  {
   "cell_type": "markdown",
   "id": "67f9f38d-8bea-4d21-b3d8-d914cf2f2c13",
   "metadata": {},
   "source": [
    "## 4. Plotting Relations"
   ]
  },
  {
   "cell_type": "code",
   "execution_count": 3,
   "id": "80967c06-119a-4f18-91f3-a202245458d0",
   "metadata": {},
   "outputs": [],
   "source": [
    "precip=pd.read_csv('city_monthly_mean_precipitation.csv')"
   ]
  },
  {
   "cell_type": "code",
   "execution_count": 4,
   "id": "bf19b403-4afb-4b5f-8a8a-bf592e42cdbb",
   "metadata": {},
   "outputs": [],
   "source": [
    "ele=pd.read_csv('nj_cities_elevation.csv')"
   ]
  },
  {
   "cell_type": "code",
   "execution_count": 5,
   "id": "535f1a90-605b-47fb-936e-e37d318bf5df",
   "metadata": {},
   "outputs": [
    {
     "data": {
      "text/html": [
       "<div>\n",
       "<style scoped>\n",
       "    .dataframe tbody tr th:only-of-type {\n",
       "        vertical-align: middle;\n",
       "    }\n",
       "\n",
       "    .dataframe tbody tr th {\n",
       "        vertical-align: top;\n",
       "    }\n",
       "\n",
       "    .dataframe thead th {\n",
       "        text-align: right;\n",
       "    }\n",
       "</style>\n",
       "<table border=\"1\" class=\"dataframe\">\n",
       "  <thead>\n",
       "    <tr style=\"text-align: right;\">\n",
       "      <th></th>\n",
       "      <th>City</th>\n",
       "      <th>2016-01-31 00:00:00</th>\n",
       "      <th>2016-02-29 00:00:00</th>\n",
       "      <th>2016-03-31 00:00:00</th>\n",
       "      <th>2016-04-30 00:00:00</th>\n",
       "      <th>2016-05-31 00:00:00</th>\n",
       "      <th>2016-06-30 00:00:00</th>\n",
       "      <th>2016-07-31 00:00:00</th>\n",
       "      <th>2016-08-31 00:00:00</th>\n",
       "      <th>2016-09-30 00:00:00</th>\n",
       "      <th>2016-10-31 00:00:00</th>\n",
       "      <th>2016-11-30 00:00:00</th>\n",
       "      <th>2016-12-31 00:00:00</th>\n",
       "    </tr>\n",
       "  </thead>\n",
       "  <tbody>\n",
       "    <tr>\n",
       "      <th>0</th>\n",
       "      <td>Trenton</td>\n",
       "      <td>3.304875</td>\n",
       "      <td>4.391598</td>\n",
       "      <td>1.467667</td>\n",
       "      <td>1.797601</td>\n",
       "      <td>3.765642</td>\n",
       "      <td>2.051863</td>\n",
       "      <td>4.893903</td>\n",
       "      <td>1.684880</td>\n",
       "      <td>2.428081</td>\n",
       "      <td>2.227747</td>\n",
       "      <td>3.513835</td>\n",
       "      <td>2.562721</td>\n",
       "    </tr>\n",
       "    <tr>\n",
       "      <th>1</th>\n",
       "      <td>Newark</td>\n",
       "      <td>3.292070</td>\n",
       "      <td>4.365805</td>\n",
       "      <td>1.311810</td>\n",
       "      <td>1.748018</td>\n",
       "      <td>3.209475</td>\n",
       "      <td>1.745682</td>\n",
       "      <td>4.529283</td>\n",
       "      <td>1.651393</td>\n",
       "      <td>1.606720</td>\n",
       "      <td>2.095352</td>\n",
       "      <td>4.518718</td>\n",
       "      <td>2.674876</td>\n",
       "    </tr>\n",
       "    <tr>\n",
       "      <th>2</th>\n",
       "      <td>Jersey City</td>\n",
       "      <td>3.292070</td>\n",
       "      <td>4.365805</td>\n",
       "      <td>1.311810</td>\n",
       "      <td>1.748018</td>\n",
       "      <td>3.209475</td>\n",
       "      <td>1.745682</td>\n",
       "      <td>4.529283</td>\n",
       "      <td>1.651393</td>\n",
       "      <td>1.606720</td>\n",
       "      <td>2.095352</td>\n",
       "      <td>4.518718</td>\n",
       "      <td>2.674876</td>\n",
       "    </tr>\n",
       "    <tr>\n",
       "      <th>3</th>\n",
       "      <td>Atlantic City</td>\n",
       "      <td>2.815738</td>\n",
       "      <td>4.119709</td>\n",
       "      <td>2.591657</td>\n",
       "      <td>2.777713</td>\n",
       "      <td>5.164398</td>\n",
       "      <td>2.244443</td>\n",
       "      <td>5.891844</td>\n",
       "      <td>1.659229</td>\n",
       "      <td>5.019808</td>\n",
       "      <td>3.064476</td>\n",
       "      <td>1.004424</td>\n",
       "      <td>3.068614</td>\n",
       "    </tr>\n",
       "    <tr>\n",
       "      <th>4</th>\n",
       "      <td>Paterson</td>\n",
       "      <td>3.292070</td>\n",
       "      <td>4.365805</td>\n",
       "      <td>1.311810</td>\n",
       "      <td>1.748018</td>\n",
       "      <td>3.209475</td>\n",
       "      <td>1.745682</td>\n",
       "      <td>4.529283</td>\n",
       "      <td>1.651393</td>\n",
       "      <td>1.606720</td>\n",
       "      <td>2.095352</td>\n",
       "      <td>4.518718</td>\n",
       "      <td>2.674876</td>\n",
       "    </tr>\n",
       "  </tbody>\n",
       "</table>\n",
       "</div>"
      ],
      "text/plain": [
       "            City  2016-01-31 00:00:00  2016-02-29 00:00:00  \\\n",
       "0        Trenton             3.304875             4.391598   \n",
       "1         Newark             3.292070             4.365805   \n",
       "2    Jersey City             3.292070             4.365805   \n",
       "3  Atlantic City             2.815738             4.119709   \n",
       "4       Paterson             3.292070             4.365805   \n",
       "\n",
       "   2016-03-31 00:00:00  2016-04-30 00:00:00  2016-05-31 00:00:00  \\\n",
       "0             1.467667             1.797601             3.765642   \n",
       "1             1.311810             1.748018             3.209475   \n",
       "2             1.311810             1.748018             3.209475   \n",
       "3             2.591657             2.777713             5.164398   \n",
       "4             1.311810             1.748018             3.209475   \n",
       "\n",
       "   2016-06-30 00:00:00  2016-07-31 00:00:00  2016-08-31 00:00:00  \\\n",
       "0             2.051863             4.893903             1.684880   \n",
       "1             1.745682             4.529283             1.651393   \n",
       "2             1.745682             4.529283             1.651393   \n",
       "3             2.244443             5.891844             1.659229   \n",
       "4             1.745682             4.529283             1.651393   \n",
       "\n",
       "   2016-09-30 00:00:00  2016-10-31 00:00:00  2016-11-30 00:00:00  \\\n",
       "0             2.428081             2.227747             3.513835   \n",
       "1             1.606720             2.095352             4.518718   \n",
       "2             1.606720             2.095352             4.518718   \n",
       "3             5.019808             3.064476             1.004424   \n",
       "4             1.606720             2.095352             4.518718   \n",
       "\n",
       "   2016-12-31 00:00:00  \n",
       "0             2.562721  \n",
       "1             2.674876  \n",
       "2             2.674876  \n",
       "3             3.068614  \n",
       "4             2.674876  "
      ]
     },
     "execution_count": 5,
     "metadata": {},
     "output_type": "execute_result"
    }
   ],
   "source": [
    "precip.head()"
   ]
  },
  {
   "cell_type": "code",
   "execution_count": 6,
   "id": "9ae5f476-a0fc-417f-b1be-25f62c02b019",
   "metadata": {},
   "outputs": [
    {
     "data": {
      "text/html": [
       "<div>\n",
       "<style scoped>\n",
       "    .dataframe tbody tr th:only-of-type {\n",
       "        vertical-align: middle;\n",
       "    }\n",
       "\n",
       "    .dataframe tbody tr th {\n",
       "        vertical-align: top;\n",
       "    }\n",
       "\n",
       "    .dataframe thead th {\n",
       "        text-align: right;\n",
       "    }\n",
       "</style>\n",
       "<table border=\"1\" class=\"dataframe\">\n",
       "  <thead>\n",
       "    <tr style=\"text-align: right;\">\n",
       "      <th></th>\n",
       "      <th>city</th>\n",
       "      <th>lat</th>\n",
       "      <th>lng</th>\n",
       "      <th>elevation</th>\n",
       "    </tr>\n",
       "  </thead>\n",
       "  <tbody>\n",
       "    <tr>\n",
       "      <th>0</th>\n",
       "      <td>Trenton</td>\n",
       "      <td>40.2237</td>\n",
       "      <td>-74.7641</td>\n",
       "      <td>24.867914</td>\n",
       "    </tr>\n",
       "    <tr>\n",
       "      <th>1</th>\n",
       "      <td>Newark</td>\n",
       "      <td>40.7245</td>\n",
       "      <td>-74.1725</td>\n",
       "      <td>23.419693</td>\n",
       "    </tr>\n",
       "    <tr>\n",
       "      <th>2</th>\n",
       "      <td>Jersey City</td>\n",
       "      <td>40.7184</td>\n",
       "      <td>-74.0686</td>\n",
       "      <td>9.510970</td>\n",
       "    </tr>\n",
       "    <tr>\n",
       "      <th>3</th>\n",
       "      <td>Atlantic City</td>\n",
       "      <td>39.3797</td>\n",
       "      <td>-74.4527</td>\n",
       "      <td>0.850331</td>\n",
       "    </tr>\n",
       "    <tr>\n",
       "      <th>4</th>\n",
       "      <td>Paterson</td>\n",
       "      <td>40.9147</td>\n",
       "      <td>-74.1624</td>\n",
       "      <td>31.753310</td>\n",
       "    </tr>\n",
       "  </tbody>\n",
       "</table>\n",
       "</div>"
      ],
      "text/plain": [
       "            city      lat      lng  elevation\n",
       "0        Trenton  40.2237 -74.7641  24.867914\n",
       "1         Newark  40.7245 -74.1725  23.419693\n",
       "2    Jersey City  40.7184 -74.0686   9.510970\n",
       "3  Atlantic City  39.3797 -74.4527   0.850331\n",
       "4       Paterson  40.9147 -74.1624  31.753310"
      ]
     },
     "execution_count": 6,
     "metadata": {},
     "output_type": "execute_result"
    }
   ],
   "source": [
    "ele.head()"
   ]
  },
  {
   "cell_type": "code",
   "execution_count": null,
   "id": "b4645203-50f9-40b5-9a1e-8fcbfa5a9317",
   "metadata": {},
   "outputs": [],
   "source": []
  },
  {
   "cell_type": "code",
   "execution_count": null,
   "id": "57402a22-f242-4439-b62d-be206a2605e7",
   "metadata": {},
   "outputs": [],
   "source": []
  },
  {
   "cell_type": "code",
   "execution_count": null,
   "id": "13cdbdea-fcdb-466f-88af-28c8ad3606a7",
   "metadata": {},
   "outputs": [],
   "source": []
  },
  {
   "cell_type": "code",
   "execution_count": null,
   "id": "ed7cf28e-1c9e-4843-b6b9-4d82330732a0",
   "metadata": {},
   "outputs": [],
   "source": []
  },
  {
   "cell_type": "code",
   "execution_count": null,
   "id": "626354c7-b6cb-4f4d-8adf-5c7d2ef6e409",
   "metadata": {},
   "outputs": [],
   "source": []
  },
  {
   "cell_type": "code",
   "execution_count": null,
   "id": "413d62f2-cf67-4321-8935-9778fa4843cc",
   "metadata": {},
   "outputs": [],
   "source": []
  },
  {
   "cell_type": "code",
   "execution_count": null,
   "id": "6f9a2c83-47e5-4eb2-ae5e-2d190e5986a7",
   "metadata": {},
   "outputs": [],
   "source": []
  },
  {
   "cell_type": "code",
   "execution_count": null,
   "id": "6ac77546-b62f-4586-90ff-a94856252c9d",
   "metadata": {},
   "outputs": [],
   "source": []
  },
  {
   "cell_type": "code",
   "execution_count": null,
   "id": "47d16578-4d88-4b95-b6c4-d0c0e5eb524b",
   "metadata": {},
   "outputs": [],
   "source": []
  },
  {
   "cell_type": "code",
   "execution_count": null,
   "id": "35f55fba-13e8-4e32-9ba7-2b7350ec083a",
   "metadata": {},
   "outputs": [],
   "source": []
  },
  {
   "cell_type": "code",
   "execution_count": null,
   "id": "942f4981-df6d-45e4-933d-9261cee1baf5",
   "metadata": {},
   "outputs": [],
   "source": []
  },
  {
   "cell_type": "code",
   "execution_count": null,
   "id": "d4497b70-eeba-4cb0-bd7d-12330ecc3b49",
   "metadata": {},
   "outputs": [],
   "source": []
  },
  {
   "cell_type": "code",
   "execution_count": null,
   "id": "cec74388-e5ac-4ac6-acc5-3660a25ee4ed",
   "metadata": {},
   "outputs": [],
   "source": []
  },
  {
   "cell_type": "code",
   "execution_count": null,
   "id": "173936fe-b82b-44d4-93f3-a4bd5e917ea6",
   "metadata": {},
   "outputs": [],
   "source": []
  },
  {
   "cell_type": "code",
   "execution_count": null,
   "id": "405c00ed-ef5a-4103-9195-475cbc4232f9",
   "metadata": {},
   "outputs": [],
   "source": []
  }
 ],
 "metadata": {
  "kernelspec": {
   "display_name": "Python 3 (ipykernel)",
   "language": "python",
   "name": "python3"
  },
  "language_info": {
   "codemirror_mode": {
    "name": "ipython",
    "version": 3
   },
   "file_extension": ".py",
   "mimetype": "text/x-python",
   "name": "python",
   "nbconvert_exporter": "python",
   "pygments_lexer": "ipython3",
   "version": "3.9.18"
  }
 },
 "nbformat": 4,
 "nbformat_minor": 5
}
